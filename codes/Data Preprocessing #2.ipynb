{
 "cells": [
  {
   "cell_type": "code",
   "execution_count": 5,
   "id": "d0a6e793",
   "metadata": {},
   "outputs": [
    {
     "name": "stdout",
     "output_type": "stream",
     "text": [
      "Rows updated where 'Açıklama' contains 'Gıda'. Updated file saved to 'C:\\Users\\Lenovo\\Desktop\\DSA210_raw_Data\\updated_combined_transactions.csv'.\n"
     ]
    }
   ],
   "source": [
    "import pandas as pd\n",
    "\n",
    "input_file = r\"C:\\Users\\Lenovo\\Desktop\\DSA210_raw_Data\\combined_categorized_transactions.csv\"  # Replace with your actual file name\n",
    "output_file = r\"C:\\Users\\Lenovo\\Desktop\\DSA210_raw_Data\\updated_combined_transactions.csv\"\n",
    "\n",
    "# CSV file\n",
    "df = pd.read_csv(input_file)\n",
    "\n",
    "# 'Sub-category' update where 'Açıklama' contains \"Gıda\"\n",
    "# at first the hierarchy I built was problematic that some dining outs got categorized as market\n",
    "df.loc[df[\"Açıklama\"].str.contains(\"Gıda\", na=False), \"Sub-category\"] = \"Dining out - food\"\n",
    "\n",
    "# updated DataFrame to a new CSV file\n",
    "df.to_csv(output_file, index=False)\n",
    "\n",
    "print(f\"Rows updated where 'Açıklama' contains 'Gıda'. Updated file saved to '{output_file}'.\")\n"
   ]
  },
  {
   "cell_type": "code",
   "execution_count": null,
   "id": "603453d1",
   "metadata": {},
   "outputs": [],
   "source": [
    "# the mistake : it should go forward, not backwarded"
   ]
  },
  {
   "cell_type": "code",
   "execution_count": 16,
   "id": "ad68562b",
   "metadata": {},
   "outputs": [
    {
     "name": "stdout",
     "output_type": "stream",
     "text": [
      "Distribution complete. Results saved to 'C:\\Users\\Lenovo\\Desktop\\DSA210_raw_Data\\distributed_combined_transactions.csv'.\n"
     ]
    }
   ],
   "source": [
    "import pandas as pd\n",
    "\n",
    "input_file = r\"C:\\Users\\Lenovo\\Desktop\\DSA210_raw_Data\\updated_combined_transactions.csv\"\n",
    "output_file = r\"C:\\Users\\Lenovo\\Desktop\\DSA210_raw_Data\\distributed_combined_transactions.csv\"\n",
    "\n",
    "df = pd.read_csv(input_file)\n",
    "\n",
    "# required columns exist\n",
    "required_columns = [\"Tarih\", \"Tutar\", \"Açıklama\", \"Sub-category\"]\n",
    "if not set(required_columns).issubset(df.columns):\n",
    "    raise ValueError(f\"The input CSV must have the following columns: {required_columns}\")\n",
    "\n",
    "# 'Tarih' is converted to datetime and sort by date\n",
    "df[\"Tarih\"] = pd.to_datetime(df[\"Tarih\"], format=\"%Y-%m-%d-%H.%M.%S.%f\")\n",
    "df = df.sort_values(by=\"Tarih\").reset_index(drop=True)\n",
    "\n",
    "# placeholders\n",
    "adjusted_rows = []\n",
    "cafeteria_chargeups = []\n",
    "days_to_distribute = []\n",
    "processed_dates = set()\n",
    "processed_rows = set()\n",
    "\n",
    "# the buffer for cafeteria food in case of a charge-up\n",
    "cafeteria_buffer = 0\n",
    "current_date = df.loc[0, \"Tarih\"].date()  # initialization with the first date\n",
    "\n",
    "# iterate over all rows by date\n",
    "for i in range(len(df)):\n",
    "    row = df.iloc[i]\n",
    "    row_date = row[\"Tarih\"].date()\n",
    "    \n",
    "    # date change detect\n",
    "    if row_date != current_date or i == (len(df) - 1):\n",
    "        # process rows for the previous date\n",
    "        for j in processed_rows:\n",
    "            inner_row = df.iloc[j]\n",
    "            inner_date = inner_row[\"Tarih\"].date()\n",
    "            \n",
    "            # prioritize cafeteria food charge-up\n",
    "            if inner_row[\"Sub-category\"] == \"Cafeteria food\":\n",
    "                # distribute the buffer (if available) the previous to the following days\n",
    "                days_to_distribute.remove(current_date) if current_date in days_to_distribute else None\n",
    "                if cafeteria_buffer > 0 and len(days_to_distribute) > 0:\n",
    "                    distributed_amount = cafeteria_buffer / len(days_to_distribute)\n",
    "                    for day in days_to_distribute:\n",
    "                        adjusted_rows.append({\n",
    "                            \"Tarih\": pd.Timestamp(day),\n",
    "                            \"Tutar\": -distributed_amount,\n",
    "                            \"Açıklama\": \"Distributed Cafeteria food\",\n",
    "                            \"Sub-category\": \"Cafeteria food\"\n",
    "                        })\n",
    "                \n",
    "                cafeteria_chargeups.append(j)\n",
    "                cafeteria_buffer = abs(inner_row[\"Tutar\"])\n",
    "                days_to_distribute = [current_date]\n",
    "                \n",
    "                processed_dates.clear()\n",
    "                processed_dates.add(current_date)\n",
    "                break  # stop inner loop to prioritize charge-up\n",
    "            \n",
    "            # skip \"Dining out - food\" days\n",
    "            elif inner_row[\"Sub-category\"] == \"Dining out - food\":\n",
    "                processed_dates.add(current_date)\n",
    "                days_to_distribute.remove(current_date) if current_date in days_to_distribute else None\n",
    "            \n",
    "            # add day for future distribution\n",
    "            elif current_date not in processed_dates:\n",
    "                days_to_distribute.append(current_date)\n",
    "                processed_dates.add(current_date)\n",
    "        \n",
    "        # end of the day (for rows)\n",
    "        processed_rows.clear()\n",
    "        current_date = row_date\n",
    "    \n",
    "    processed_rows.add(i)\n",
    "\n",
    "\n",
    "# final buffer distribution\n",
    "if cafeteria_buffer > 0 and len(days_to_distribute) > 0:\n",
    "    distributed_amount = cafeteria_buffer / len(days_to_distribute)\n",
    "    for day in days_to_distribute:\n",
    "        adjusted_rows.append({\n",
    "            \"Tarih\": pd.Timestamp(day),\n",
    "            \"Tutar\": -distributed_amount,\n",
    "            \"Açıklama\": \"Distributed Cafeteria food\",\n",
    "            \"Sub-category\": \"Cafeteria food\"\n",
    "        })\n",
    "\n",
    "# append distributed rows to the original DataFrame\n",
    "distributed_df = pd.DataFrame(adjusted_rows)\n",
    "\n",
    "# update \"Tutar\" to 0 for charge-up rows\n",
    "df.loc[cafeteria_chargeups, \"Tutar\"] = 0\n",
    "\n",
    "final_df = pd.concat([df, distributed_df]).sort_values(by=\"Tarih\").reset_index(drop=True)\n",
    "\n",
    "\n",
    "final_df = final_df.sort_values(by=\"Tarih\", ascending=False).reset_index(drop=True)\n",
    "final_df.to_csv(output_file, index=False)\n",
    "\n",
    "print(f\"Distribution complete. Results saved to '{output_file}'.\")\n"
   ]
  },
  {
   "cell_type": "code",
   "execution_count": null,
   "id": "c6c9461d",
   "metadata": {},
   "outputs": [],
   "source": []
  },
  {
   "cell_type": "code",
   "execution_count": 17,
   "id": "e8f0d6c1",
   "metadata": {},
   "outputs": [
    {
     "name": "stdout",
     "output_type": "stream",
     "text": [
      "Categorization complete. Results saved to C:\\Users\\Lenovo\\Desktop\\DSA210_raw_Data\\generally_categorized_transactions.csv\n"
     ]
    }
   ],
   "source": [
    "import pandas as pd\n",
    "\n",
    "# sub-category mapping to generals\n",
    "general_category_mapping = {\n",
    "    \"Cafeteria food\": \"Essential\",\n",
    "    \"Market – grocery\": \"Essential\",\n",
    "    \"Education\": \"Essential\",\n",
    "    \"Savings\": \"Essential\",\n",
    "    \"Entertainment\": \"Discretionary\",\n",
    "    \"Dining out - food\": \"Discretionary\",\n",
    "    \"Dining out - coffee\": \"Discretionary\",\n",
    "    \"Fashion\": \"Discretionary\",\n",
    "    \"Transportation\": \"Essential\",\n",
    "    \"ATM Use\": \"Essential\",\n",
    "    \"Grant\": \"Income\",\n",
    "    \"Allowance\": \"Income\",\n",
    "    \"Others\": \"Discretionary\"\n",
    "}\n",
    "\n",
    "# function to determine the general category\n",
    "def determine_general_category(sub_category):\n",
    "    return general_category_mapping.get(sub_category, \"Discretionary\") \n",
    "    # if a sub-category not found, assign it right to \"Discretionary\"\n",
    "    # dict.get(key, default_value)\n",
    "    \n",
    "input_file = r\"C:\\Users\\Lenovo\\Desktop\\DSA210_raw_Data\\distributed_combined_transactions.csv\" \n",
    "output_file = r\"C:\\Users\\Lenovo\\Desktop\\DSA210_raw_Data\\generally_categorized_transactions.csv\"\n",
    "\n",
    "df = pd.read_csv(input_file)\n",
    "\n",
    "# if the \"Sub-category\" exists\n",
    "if \"Sub-category\" in df.columns:\n",
    "    # new column \"General Category\" based on the sub-category\n",
    "    df[\"General Category\"] = df[\"Sub-category\"].apply(determine_general_category)\n",
    "else:\n",
    "    raise ValueError(\"The 'Sub-category' column is missing from the input CSV file.\")\n",
    "\n",
    "df.to_csv(output_file, index=False)\n",
    "\n",
    "print(f\"Categorization complete. Results saved to {output_file}\")\n"
   ]
  },
  {
   "cell_type": "code",
   "execution_count": 18,
   "id": "8298ada7",
   "metadata": {},
   "outputs": [
    {
     "name": "stdout",
     "output_type": "stream",
     "text": [
      "Updates complete. Results saved to 'C:\\Users\\Lenovo\\Desktop\\DSA210_raw_Data\\final_categorized_transactions.csv'.\n"
     ]
    }
   ],
   "source": [
    "import pandas as pd\n",
    "\n",
    "input_file = r\"C:\\Users\\Lenovo\\Desktop\\DSA210_raw_Data\\generally_categorized_transactions.csv\"\n",
    "output_file = r\"C:\\Users\\Lenovo\\Desktop\\DSA210_raw_Data\\final_categorized_transactions.csv\"\n",
    "\n",
    "df = pd.read_csv(input_file)\n",
    "\n",
    "# 'Tarih' is datetime\n",
    "df[\"Tarih\"] = pd.to_datetime(df[\"Tarih\"], errors=\"coerce\")\n",
    "\n",
    "# if 'Açıklama' is 'Distributed Cafeteria food'\n",
    "condition = df[\"Açıklama\"] == \"Distributed Cafeteria food\"\n",
    "\n",
    "# updates based on the year and 'Tutar' value\n",
    "for index, row in df.loc[condition].iterrows():\n",
    "    year = row[\"Tarih\"].year\n",
    "    tutar_abs = abs(row[\"Tutar\"])\n",
    "    \n",
    "    # Check for year and value thresholds\n",
    "    if year == 2022 and tutar_abs < 40:\n",
    "        df.at[index, \"Tutar\"] = -50\n",
    "    elif year == 2023 and tutar_abs < 50:\n",
    "        df.at[index, \"Tutar\"] = -60\n",
    "    elif year == 2024 and tutar_abs < 80:\n",
    "        df.at[index, \"Tutar\"] = -100\n",
    "\n",
    "df.to_csv(output_file, index=False)\n",
    "\n",
    "print(f\"Updates complete. Results saved to '{output_file}'.\")\n"
   ]
  },
  {
   "cell_type": "code",
   "execution_count": null,
   "id": "157966e3",
   "metadata": {},
   "outputs": [],
   "source": []
  }
 ],
 "metadata": {
  "kernelspec": {
   "display_name": "Python 3 (ipykernel)",
   "language": "python",
   "name": "python3"
  },
  "language_info": {
   "codemirror_mode": {
    "name": "ipython",
    "version": 3
   },
   "file_extension": ".py",
   "mimetype": "text/x-python",
   "name": "python",
   "nbconvert_exporter": "python",
   "pygments_lexer": "ipython3",
   "version": "3.11.5"
  }
 },
 "nbformat": 4,
 "nbformat_minor": 5
}
