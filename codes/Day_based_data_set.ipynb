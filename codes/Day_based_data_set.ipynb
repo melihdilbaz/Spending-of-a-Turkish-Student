{
 "cells": [
  {
   "cell_type": "code",
   "execution_count": 2,
   "id": "9a3a5e96",
   "metadata": {},
   "outputs": [],
   "source": [
    "import pandas as pd\n",
    "import datetime"
   ]
  },
  {
   "cell_type": "code",
   "execution_count": null,
   "id": "01a3bdb8",
   "metadata": {},
   "outputs": [],
   "source": [
    "\n",
    "# Function to get day of the week\n",
    "def get_day_of_week_local(day, month, year):\n",
    "    date = datetime.date(year, month, day)\n",
    "    return date.strftime(\"%A\")\n"
   ]
  },
  {
   "cell_type": "code",
   "execution_count": null,
   "id": "1980b0a9",
   "metadata": {},
   "outputs": [],
   "source": [
    "# Load the dataset\n",
    "file_path = r'C:\\Users\\Lenovo\\Desktop\\DSA210_raw_Data\\final_categorized_transactions.csv'\n",
    "df = pd.read_csv(file_path)\n",
    "\n",
    "# Add a new column for the day of the week\n",
    "df['dayOfWeek'] = None\n",
    "\n",
    "def calculate_day_of_week(row):\n",
    "    try:\n",
    "        date = row['Tarih'][0:10]  # Assuming 'Tarih' is in YYYY-MM-DD format\n",
    "        year, month, day = map(int, date.split('-'))\n",
    "        return get_day_of_week_local(day, month, year)\n",
    "    except Exception as e:\n",
    "        print(f\"Error processing row with date {row['Tarih']}: {e}\")\n",
    "        return None\n",
    "\n",
    "# Apply the function to the dataframe\n",
    "df['dayOfWeek'] = df.apply(calculate_day_of_week, axis=1)\n",
    "\n",
    "# Save the updated dataset\n",
    "output_file_path = r'C:\\Users\\Lenovo\\Desktop\\DSA210_raw_Data\\final_categorized_dayOfWeek.csv'\n",
    "df.to_csv(output_file_path, index=False)\n",
    "\n",
    "print(\"Processing complete. The updated file has been saved.\")"
   ]
  },
  {
   "cell_type": "code",
   "execution_count": 6,
   "id": "d1b1ea93",
   "metadata": {},
   "outputs": [
    {
     "name": "stdout",
     "output_type": "stream",
     "text": [
      "Summarized dataset saved successfully!\n"
     ]
    }
   ],
   "source": [
    "# Load the dataset\n",
    "file_path = r'C:\\Users\\Lenovo\\Desktop\\DSA210_raw_Data\\final_categorized_dayOfWeek.csv'\n",
    "df = pd.read_csv(file_path)\n",
    "\n",
    "# Convert 'Tarih' to date only (strip time)\n",
    "df['Tarih'] = pd.to_datetime(df['Tarih']).dt.date\n",
    "\n",
    "df['Tarih'] = pd.to_datetime(df['Tarih']).dt.date\n",
    "\n",
    "# Ensure 'Tutar' is properly converted to numeric\n",
    "df['Tutar'] = pd.to_numeric(df['Tutar'], errors='coerce')\n",
    "\n",
    "# Group by 'Tarih' (date only) and 'dayOfWeek' and calculate the required metrics\n",
    "result = df.groupby(['Tarih', 'dayOfWeek']).apply(\n",
    "    lambda x: pd.Series({\n",
    "        'Total Spending': x.loc[x['Tutar'] < 0, 'Tutar'].sum(),\n",
    "        'Total Income': x.loc[x['Tutar'] > 0, 'Tutar'].sum(),\n",
    "        'Discretionary Amount': x.loc[(x['Tutar'] < 0) & (x['General Category'] == 'Discretionary'), 'Tutar'].sum(),\n",
    "        'Essential Amount': x.loc[(x['Tutar'] < 0) & (x['General Category'] == 'Essential'), 'Tutar'].sum(),\n",
    "        'Share of Discretionary': (\n",
    "            x.loc[(x['Tutar'] < 0) & (x['General Category'] == 'Discretionary'), 'Tutar'].sum() /\n",
    "            (\n",
    "                x.loc[(x['Tutar'] < 0) & (x['General Category'] == 'Discretionary'), 'Tutar'].sum() +\n",
    "                x.loc[(x['Tutar'] < 0) & (x['General Category'] == 'Essential'), 'Tutar'].sum()\n",
    "            )\n",
    "            if (\n",
    "                x.loc[(x['Tutar'] < 0) & (x['General Category'] == 'Discretionary'), 'Tutar'].sum() +\n",
    "                x.loc[(x['Tutar'] < 0) & (x['General Category'] == 'Essential'), 'Tutar'].sum()\n",
    "            ) != 0 else 0\n",
    "        )\n",
    "    })\n",
    ").reset_index()\n",
    "\n",
    "# Save the summarized dataset to a new CSV file\n",
    "output_file_path = r'C:\\Users\\Lenovo\\Desktop\\DSA210_raw_Data\\final_categorized_merged.csv'\n",
    "result.to_csv(output_file_path, index=False)\n",
    "\n",
    "print(\"Summarized dataset saved successfully!\")"
   ]
  },
  {
   "cell_type": "code",
   "execution_count": null,
   "id": "deeb731b",
   "metadata": {},
   "outputs": [],
   "source": []
  }
 ],
 "metadata": {
  "kernelspec": {
   "display_name": "Python 3 (ipykernel)",
   "language": "python",
   "name": "python3"
  },
  "language_info": {
   "codemirror_mode": {
    "name": "ipython",
    "version": 3
   },
   "file_extension": ".py",
   "mimetype": "text/x-python",
   "name": "python",
   "nbconvert_exporter": "python",
   "pygments_lexer": "ipython3",
   "version": "3.11.5"
  }
 },
 "nbformat": 4,
 "nbformat_minor": 5
}
